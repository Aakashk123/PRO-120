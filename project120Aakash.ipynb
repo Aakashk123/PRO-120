{
  "nbformat": 4,
  "nbformat_minor": 0,
  "metadata": {
    "colab": {
      "name": "project120Aakash.ipynb",
      "provenance": [],
      "collapsed_sections": []
    },
    "kernelspec": {
      "name": "python3",
      "display_name": "Python 3"
    },
    "language_info": {
      "name": "python"
    }
  },
  "cells": [
    {
      "cell_type": "code",
      "execution_count": null,
      "metadata": {
        "id": "IJgUYJOP-ZAB"
      },
      "outputs": [],
      "source": [
        "from sklearn import datasets\n",
        "\n",
        "wine = datasets.load_wine()"
      ]
    },
    {
      "cell_type": "code",
      "source": [
        "\n",
        "print(\"Features: \", wine.feature_names)\n",
        "\n",
        "print(\"Labels: \",wine.target_names)\n",
        "\n"
      ],
      "metadata": {
        "id": "GIgXp_bi_QZG",
        "colab": {
          "base_uri": "https://localhost:8080/"
        },
        "outputId": "85a51bcd-770e-4540-c770-4a03b95b21d4"
      },
      "execution_count": null,
      "outputs": [
        {
          "output_type": "stream",
          "name": "stdout",
          "text": [
            "Features:  ['alcohol', 'malic_acid', 'ash', 'alcalinity_of_ash', 'magnesium', 'total_phenols', 'flavanoids', 'nonflavanoid_phenols', 'proanthocyanins', 'color_intensity', 'hue', 'od280/od315_of_diluted_wines', 'proline']\n",
            "Labels:  ['class_0' 'class_1' 'class_2']\n"
          ]
        }
      ]
    },
    {
      "cell_type": "code",
      "source": [
        "from   sklearn.model_selection  import  train_test_split\n",
        "X=wine.data\n",
        "y=wine.target\n",
        "\n",
        "X_train, X_test, y_train, y_test = train_test_split(X, y, test_size=0.3, random_state=109) #70% training and 30% test"
      ],
      "metadata": {
        "id": "6BUJVGaFAFlW"
      },
      "execution_count": null,
      "outputs": []
    },
    {
      "cell_type": "code",
      "source": [
        "from sklearn.naive_bayes import GaussianNB\n",
        "gnb =GaussianNB()\n",
        "\n",
        "gnb.fit(X_train , y_train)\n",
        "\n",
        "y_pred =gnb.predict(X_test)"
      ],
      "metadata": {
        "id": "6IN-YfYKA_NV"
      },
      "execution_count": null,
      "outputs": []
    },
    {
      "cell_type": "code",
      "source": [
        "from sklearn import metrics\n",
        "\n",
        "print(\"Accuracy is --> \" , metrics.accuracy_score(y_test , y_pred))"
      ],
      "metadata": {
        "id": "mNldT4AlCVhl",
        "colab": {
          "base_uri": "https://localhost:8080/"
        },
        "outputId": "440d20d0-9a8e-428d-cf28-c001630b56ba"
      },
      "execution_count": null,
      "outputs": [
        {
          "output_type": "stream",
          "name": "stdout",
          "text": [
            "Accuracy is -->  0.9074074074074074\n"
          ]
        }
      ]
    }
  ]
}